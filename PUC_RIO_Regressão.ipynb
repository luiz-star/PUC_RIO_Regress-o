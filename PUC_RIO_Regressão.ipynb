{
  "nbformat": 4,
  "nbformat_minor": 0,
  "metadata": {
    "colab": {
      "name": "PUC-RIO_Regressão.ipynb",
      "provenance": [],
      "collapsed_sections": [],
      "include_colab_link": true
    },
    "kernelspec": {
      "name": "python3",
      "display_name": "Python 3"
    }
  },
  "cells": [
    {
      "cell_type": "markdown",
      "metadata": {
        "id": "view-in-github",
        "colab_type": "text"
      },
      "source": [
        "<a href=\"https://colab.research.google.com/github/luiz-star/PUC_RIO_Regressao/blob/main/PUC_RIO_Regress%C3%A3o.ipynb\" target=\"_parent\"><img src=\"https://colab.research.google.com/assets/colab-badge.svg\" alt=\"Open In Colab\"/></a>"
      ]
    },
    {
      "cell_type": "markdown",
      "metadata": {
        "id": "7U09YgBYug4J"
      },
      "source": [
        "# Especialização em Ciência de Dados - PUC-Rio\n",
        "# Machine Learning - Prof. Tatiana Escovedo\n",
        "## Problemas de Regressão"
      ]
    },
    {
      "cell_type": "code",
      "metadata": {
        "id": "esjiVVSC-Dfx"
      },
      "source": [
        "# Imports\n",
        "import pandas as pd\n",
        "import numpy as np\n",
        "import matplotlib.pyplot as plt\n",
        "from sklearn import datasets\n",
        "from sklearn import metrics\n",
        "from sklearn.model_selection import cross_validate\n",
        "from sklearn.model_selection import KFold\n",
        "from sklearn.model_selection import cross_val_score\n",
        "from sklearn.model_selection import train_test_split\n",
        "from sklearn.model_selection import GridSearchCV\n",
        "from sklearn.preprocessing import StandardScaler\n",
        "from sklearn.pipeline import Pipeline\n",
        "\n",
        "# Bibliotecas dos algoritmos de regressão\n",
        "from sklearn.linear_model import LinearRegression\n",
        "from sklearn.linear_model import Ridge\n",
        "from sklearn.linear_model import Lasso\n",
        "from sklearn.linear_model import ElasticNet\n",
        "from sklearn.neighbors import KNeighborsRegressor\n",
        "from sklearn.tree import DecisionTreeRegressor\n",
        "from sklearn.svm import SVR\n",
        "\n",
        "# Bibliotecas das métricas de regressão\n",
        "from sklearn.metrics import mean_squared_error\n",
        "from sklearn.metrics import r2_score"
      ],
      "execution_count": null,
      "outputs": []
    },
    {
      "cell_type": "code",
      "metadata": {
        "id": "PQIRYEbSKCWP"
      },
      "source": [
        "import warnings\n",
        "warnings.filterwarnings(\"ignore\")"
      ],
      "execution_count": null,
      "outputs": []
    },
    {
      "cell_type": "markdown",
      "metadata": {
        "id": "9jj3_aqYuzDK"
      },
      "source": [
        "## Importação dos dados"
      ]
    },
    {
      "cell_type": "markdown",
      "metadata": {
        "id": "IsS3uX9tyMDp"
      },
      "source": [
        "http://lib.stat.cmu.edu/datasets/boston\n",
        "\n",
        "Para este projeto, investigaremos o dataset Boston House Price, um dataset para problemas de regressão em que todos os atributos são numéricos.\n",
        "\n",
        "Cada registro no banco de dados descreve um subúrbio ou cidade de Boston. Os dados foram retirados da Área Estatística Metropolitana Padrão de Boston (SMSA) em 1970. Os atributos são definidos da seguinte forma (retirado do UCI Machine Learning Repository):\n",
        "\n",
        "1. CRIM: Taxa de criminalidade per capita por cidade\n",
        "2. ZN: Proporção de terrenos residenciais divididos em lotes com mais de 25.000 pés quadrados\n",
        "3. INDUS: Proporção de acres não comerciais por cidade\n",
        "4. CHAS: Variável fictícia CHAS Charles River (= 1 se o trecho limita o rio; 0 caso contrário)\n",
        "5. NOX: Concentração de óxidos nítricos (partes por 10 milhões)\n",
        "6. RM: número médio de quartos por habitação\n",
        "7. AGE: proporção de unidades ocupadas construídas antes de 1940\n",
        "8. DIS: Distâncias ponderadas para cinco centros de emprego em Boston\n",
        "9. RAD: Índice de acessibilidade às rodovias radiais\n",
        "10. TAX: Taxa de imposto sobre o valor total da propriedade por 10 mil dólares\n",
        "11. PTRATIO: Proporção de alunos por professor por cidade\n",
        "12. B: 1000(Bk - 0.63)^2 onde Bk é a proporção de negros por cidade\n",
        "13. LSTAT: % do menor status da população\n",
        "14. MEDV: Valor médio das casas ocupadas pelos proprietários em mil dólares\n",
        "\n",
        "Podemos ver que os atributos de entrada têm uma mistura de unidades."
      ]
    },
    {
      "cell_type": "code",
      "metadata": {
        "id": "5WWAIhpcygDh",
        "colab": {
          "base_uri": "https://localhost:8080/",
          "height": 204
        },
        "outputId": "8d80d76f-f5d8-42ef-8ad6-969c7db61282"
      },
      "source": [
        "# Datasets do scikit-learn: https://scikit-learn.org/stable/datasets/index.html\n",
        "\n",
        "# Carrega o dataset boston\n",
        "boston = datasets.load_boston()\n",
        "\n",
        "# Extraindo X, Y e os nomes das colunas dos atributos\n",
        "X = boston[\"data\"]\n",
        "Y = boston[\"target\"]\n",
        "names = boston[\"feature_names\"]\n",
        "\n",
        "# Se precisar converter para dataframe\n",
        "df = pd.DataFrame(boston.data, columns=boston.feature_names)\n",
        "df.head()"
      ],
      "execution_count": null,
      "outputs": [
        {
          "output_type": "execute_result",
          "data": {
            "text/html": [
              "<div>\n",
              "<style scoped>\n",
              "    .dataframe tbody tr th:only-of-type {\n",
              "        vertical-align: middle;\n",
              "    }\n",
              "\n",
              "    .dataframe tbody tr th {\n",
              "        vertical-align: top;\n",
              "    }\n",
              "\n",
              "    .dataframe thead th {\n",
              "        text-align: right;\n",
              "    }\n",
              "</style>\n",
              "<table border=\"1\" class=\"dataframe\">\n",
              "  <thead>\n",
              "    <tr style=\"text-align: right;\">\n",
              "      <th></th>\n",
              "      <th>CRIM</th>\n",
              "      <th>ZN</th>\n",
              "      <th>INDUS</th>\n",
              "      <th>CHAS</th>\n",
              "      <th>NOX</th>\n",
              "      <th>RM</th>\n",
              "      <th>AGE</th>\n",
              "      <th>DIS</th>\n",
              "      <th>RAD</th>\n",
              "      <th>TAX</th>\n",
              "      <th>PTRATIO</th>\n",
              "      <th>B</th>\n",
              "      <th>LSTAT</th>\n",
              "    </tr>\n",
              "  </thead>\n",
              "  <tbody>\n",
              "    <tr>\n",
              "      <th>0</th>\n",
              "      <td>0.00632</td>\n",
              "      <td>18.0</td>\n",
              "      <td>2.31</td>\n",
              "      <td>0.0</td>\n",
              "      <td>0.538</td>\n",
              "      <td>6.575</td>\n",
              "      <td>65.2</td>\n",
              "      <td>4.0900</td>\n",
              "      <td>1.0</td>\n",
              "      <td>296.0</td>\n",
              "      <td>15.3</td>\n",
              "      <td>396.90</td>\n",
              "      <td>4.98</td>\n",
              "    </tr>\n",
              "    <tr>\n",
              "      <th>1</th>\n",
              "      <td>0.02731</td>\n",
              "      <td>0.0</td>\n",
              "      <td>7.07</td>\n",
              "      <td>0.0</td>\n",
              "      <td>0.469</td>\n",
              "      <td>6.421</td>\n",
              "      <td>78.9</td>\n",
              "      <td>4.9671</td>\n",
              "      <td>2.0</td>\n",
              "      <td>242.0</td>\n",
              "      <td>17.8</td>\n",
              "      <td>396.90</td>\n",
              "      <td>9.14</td>\n",
              "    </tr>\n",
              "    <tr>\n",
              "      <th>2</th>\n",
              "      <td>0.02729</td>\n",
              "      <td>0.0</td>\n",
              "      <td>7.07</td>\n",
              "      <td>0.0</td>\n",
              "      <td>0.469</td>\n",
              "      <td>7.185</td>\n",
              "      <td>61.1</td>\n",
              "      <td>4.9671</td>\n",
              "      <td>2.0</td>\n",
              "      <td>242.0</td>\n",
              "      <td>17.8</td>\n",
              "      <td>392.83</td>\n",
              "      <td>4.03</td>\n",
              "    </tr>\n",
              "    <tr>\n",
              "      <th>3</th>\n",
              "      <td>0.03237</td>\n",
              "      <td>0.0</td>\n",
              "      <td>2.18</td>\n",
              "      <td>0.0</td>\n",
              "      <td>0.458</td>\n",
              "      <td>6.998</td>\n",
              "      <td>45.8</td>\n",
              "      <td>6.0622</td>\n",
              "      <td>3.0</td>\n",
              "      <td>222.0</td>\n",
              "      <td>18.7</td>\n",
              "      <td>394.63</td>\n",
              "      <td>2.94</td>\n",
              "    </tr>\n",
              "    <tr>\n",
              "      <th>4</th>\n",
              "      <td>0.06905</td>\n",
              "      <td>0.0</td>\n",
              "      <td>2.18</td>\n",
              "      <td>0.0</td>\n",
              "      <td>0.458</td>\n",
              "      <td>7.147</td>\n",
              "      <td>54.2</td>\n",
              "      <td>6.0622</td>\n",
              "      <td>3.0</td>\n",
              "      <td>222.0</td>\n",
              "      <td>18.7</td>\n",
              "      <td>396.90</td>\n",
              "      <td>5.33</td>\n",
              "    </tr>\n",
              "  </tbody>\n",
              "</table>\n",
              "</div>"
            ],
            "text/plain": [
              "      CRIM    ZN  INDUS  CHAS    NOX  ...  RAD    TAX  PTRATIO       B  LSTAT\n",
              "0  0.00632  18.0   2.31   0.0  0.538  ...  1.0  296.0     15.3  396.90   4.98\n",
              "1  0.02731   0.0   7.07   0.0  0.469  ...  2.0  242.0     17.8  396.90   9.14\n",
              "2  0.02729   0.0   7.07   0.0  0.469  ...  2.0  242.0     17.8  392.83   4.03\n",
              "3  0.03237   0.0   2.18   0.0  0.458  ...  3.0  222.0     18.7  394.63   2.94\n",
              "4  0.06905   0.0   2.18   0.0  0.458  ...  3.0  222.0     18.7  396.90   5.33\n",
              "\n",
              "[5 rows x 13 columns]"
            ]
          },
          "metadata": {
            "tags": []
          },
          "execution_count": 4
        }
      ]
    },
    {
      "cell_type": "markdown",
      "metadata": {
        "id": "pyyIG79P-zsn"
      },
      "source": [
        "## Preparação dos dados"
      ]
    },
    {
      "cell_type": "code",
      "metadata": {
        "id": "bg0jWIn3-8v4"
      },
      "source": [
        "# definindo o tamanho do conjunto de teste\n",
        "test_size = 0.20 \n",
        "\n",
        "# A semente (seed) pode ser qualquer número, e garante que os resultados possam ser reproduzidos de forma idêntica toda vez que o script for rodado. \n",
        "# Isto é muito importante quando trabalhamos com modelos ou métodos que utilizam de algum tipo de aleatoriedade.\n",
        "seed = 7\n",
        "\n",
        "# definindo a métrica de avaliação dos algoritmos\n",
        "scoring = 'neg_mean_squared_error' # MSE\n",
        "# scoring = 'r2' # R2\n",
        "\n",
        "# particionando em conjuntos de treino e teste\n",
        "X_train, X_test, Y_train, Y_test = train_test_split(X, Y, test_size=test_size, random_state=seed)\n",
        "\n",
        "# configurando a validação cruzada\n",
        "n_splits=10\n",
        "kfold = KFold(n_splits=n_splits)"
      ],
      "execution_count": null,
      "outputs": []
    },
    {
      "cell_type": "markdown",
      "metadata": {
        "id": "bRuhKsCG4WaN"
      },
      "source": [
        "## Modelos de Regressão"
      ]
    },
    {
      "cell_type": "markdown",
      "metadata": {
        "id": "5PtJr6zcySLA"
      },
      "source": [
        "Para avaliar cada algoritmo, iremos usar diversas métricas, dentre elas, a medida de erro quadrático médio (MSE). Na implementação do scikit-learn, os valores médios dos erros quadráticos estão invertidos (negativos), devido a uma peculiaridade da função usada (para mais detalhes, consulte a documentação).\n",
        "\n",
        "https://scikit-learn.org/stable/modules/generated/sklearn.model_selection.train_test_split.html\n",
        "\n",
        "https://scikit-learn.org/stable/modules/generated/sklearn.model_selection.cross_val_score.html\n",
        "\n",
        "https://scikit-learn.org/stable/modules/model_evaluation.html\n",
        "\n",
        "https://scikit-learn.org/stable/modules/generated/sklearn.metrics.mean_squared_error.html#sklearn.metrics.mean_squared_error\n",
        "\n",
        "https://scikit-learn.org/stable/modules/generated/sklearn.metrics.r2_score.html#sklearn.metrics.r2_score"
      ]
    },
    {
      "cell_type": "markdown",
      "metadata": {
        "id": "8kgJTUGx1CpZ"
      },
      "source": [
        "### Regressão Linear\n",
        "\n",
        "http://scikit-learn.org/stable/modules/generated/sklearn.linear_model.LinearRegression.html\n",
        "\n",
        "A regressão linear pressupõe que as variáveis de entrada tenham uma distribuição gaussiana. Também é assumido que as variáveis de entrada são relevantes para a variável de saída e que não são altamente correlacionadas entre si. Podemos construir um modelo de regressão linear usando a classe LinearRegression."
      ]
    },
    {
      "cell_type": "code",
      "metadata": {
        "id": "8K1wpOo70oMT",
        "colab": {
          "base_uri": "https://localhost:8080/"
        },
        "outputId": "c0d28835-1430-4da9-e4e4-3f677526a418"
      },
      "source": [
        "model = LinearRegression()\n",
        "results = cross_val_score(model, X_train, Y_train, cv=kfold, scoring=scoring)\n",
        "print(abs(results.mean()))"
      ],
      "execution_count": null,
      "outputs": [
        {
          "output_type": "stream",
          "text": [
            "21.37985572667861\n"
          ],
          "name": "stdout"
        }
      ]
    },
    {
      "cell_type": "markdown",
      "metadata": {
        "id": "475Yp60C1Q7-"
      },
      "source": [
        "### Regressão Ridge\n",
        "\n",
        "http://scikit-learn.org/stable/modules/generated/sklearn.linear_model.Ridge.html\n",
        "\n",
        "A regressão Ridge é uma extensão da regressão linear em que a função de perda é modificada para minimizar a complexidade do modelo medido como a soma do valor ao quadrado dos valores dos coeficientes (também chamado de norma L2). Podemos construir um modelo de regressão Ridge usando a classe Ridge."
      ]
    },
    {
      "cell_type": "code",
      "metadata": {
        "id": "WdSp0kfS1RAh",
        "colab": {
          "base_uri": "https://localhost:8080/"
        },
        "outputId": "24b6888a-7fbf-4782-f696-41d7efa85ab3"
      },
      "source": [
        "model = Ridge()\n",
        "results = cross_val_score(model, X_train, Y_train, cv=kfold, scoring=scoring)\n",
        "print(abs(results.mean()))"
      ],
      "execution_count": null,
      "outputs": [
        {
          "output_type": "stream",
          "text": [
            "21.498161004501977\n"
          ],
          "name": "stdout"
        }
      ]
    },
    {
      "cell_type": "markdown",
      "metadata": {
        "id": "BPeH7R285ESu"
      },
      "source": [
        "### Regressão LASSO\n",
        "\n",
        "http://scikit-learn.org/stable/modules/generated/sklearn.linear_model.Lasso.html\n",
        "\n",
        "A regressão LASSO (Least Absolute Shrinkage and Selection Operator) é uma modificação da regressão linear em que a função de perda é modificada para minimizar a complexidade do modelo medido como a soma do valor absoluto dos valores dos coeficientes (também chamado de norma L1). Podemos construir um modelo LASSO usando a classe Lasso."
      ]
    },
    {
      "cell_type": "code",
      "metadata": {
        "id": "dc4m-zDP5EYp",
        "colab": {
          "base_uri": "https://localhost:8080/"
        },
        "outputId": "e93577b5-4371-4d21-c83e-ea58a75e2540"
      },
      "source": [
        "model = Lasso()\n",
        "results = cross_val_score(model, X_train, Y_train, cv=kfold, scoring=scoring)\n",
        "print(abs(results.mean()))"
      ],
      "execution_count": null,
      "outputs": [
        {
          "output_type": "stream",
          "text": [
            "26.42356110840965\n"
          ],
          "name": "stdout"
        }
      ]
    },
    {
      "cell_type": "markdown",
      "metadata": {
        "id": "W_pbyuJp1lrh"
      },
      "source": [
        "### Regressão ElasticNet\n",
        "\n",
        "http://scikit-learn.org/stable/modules/generated/sklearn.linear_model.ElasticNet.html\n",
        "\n",
        "O ElasticNet é um método de regularização de regressão que combina as propriedades da regressão de Ridge e da regressão LASSO. Ele procura minimizar a complexidade do modelo de regressão (magnitude e número de coeficientes de regressão) penalizando o modelo usando a norma L2 (soma dos valores do coeficientes ao quadrado) e a norma L1 (soma dos valores absolutos do coeficientes). Podemos construir um modelo ElasticNet usando a classe ElasticNet."
      ]
    },
    {
      "cell_type": "code",
      "metadata": {
        "id": "m9I3ZctE1lwH",
        "colab": {
          "base_uri": "https://localhost:8080/"
        },
        "outputId": "698e6862-b503-4243-8dab-d5eb29d9ac48"
      },
      "source": [
        "model = ElasticNet()\n",
        "results = cross_val_score(model, X_train, Y_train, cv=kfold, scoring=scoring)\n",
        "print(abs(results.mean()))"
      ],
      "execution_count": null,
      "outputs": [
        {
          "output_type": "stream",
          "text": [
            "27.50225935066171\n"
          ],
          "name": "stdout"
        }
      ]
    },
    {
      "cell_type": "markdown",
      "metadata": {
        "id": "5WnWuh1g11fi"
      },
      "source": [
        "### K-Nearest Neighbors\n",
        "\n",
        "http://scikit-learn.org/stable/modules/generated/sklearn.neighbors.KNeighborsRegressor.html\n",
        "\n",
        "O KNN localiza as k instâncias mais semelhantes no\n",
        "conjunto de dados de treinamento para uma nova instância de dados. Dos k vizinhos, a variável de saída média ou mediana é tomada como a previsão. É importante notar a métrica da distância usada (o argumento da métrica). A distância de Minkowski é usada por padrão, que é uma generalização da distância euclidiana (usada quando todas as entradas têm a mesma escala) e da distância de Manhattan (usada quando as escalas das variáveis de entrada diferem). Podemos  construir um modelo KNN para regressão usando a classe KNeighborsRegressor."
      ]
    },
    {
      "cell_type": "code",
      "metadata": {
        "id": "kyFl-5A811kp",
        "colab": {
          "base_uri": "https://localhost:8080/"
        },
        "outputId": "e2c7f228-4e7c-42b0-d260-0254b3917ada"
      },
      "source": [
        "model = KNeighborsRegressor()\n",
        "results = cross_val_score(model, X_train, Y_train, cv=kfold, scoring=scoring)\n",
        "print(abs(results.mean()))"
      ],
      "execution_count": null,
      "outputs": [
        {
          "output_type": "stream",
          "text": [
            "41.89648839024391\n"
          ],
          "name": "stdout"
        }
      ]
    },
    {
      "cell_type": "markdown",
      "metadata": {
        "id": "rVzuOOkG2E_E"
      },
      "source": [
        "### Árvores de Decisão\n",
        "\n",
        "http://scikit-learn.org/stable/modules/generated/sklearn.tree.DecisionTreeRegressor.html\n",
        "\n",
        "As árvores de decisão ou as Árvores de Classificação e Regressão (CART, como são conhecidas) usam os dados de treinamento para selecionar os melhores pontos para dividir os dados, a fim de minimizar uma métrica de custo. A métrica de custo padrão para árvores de decisão de regressão é o erro médio quadrático, especificado no parâmetro critério. Podemos criar um modelo CART para regressão usando a classe DecisionTreeRegressor."
      ]
    },
    {
      "cell_type": "code",
      "metadata": {
        "id": "vmJeWBvc2FEL",
        "colab": {
          "base_uri": "https://localhost:8080/"
        },
        "outputId": "be87a5cb-bd4b-44e8-f71e-5a63fbab821d"
      },
      "source": [
        "model = DecisionTreeRegressor(random_state=seed)\n",
        "results = cross_val_score(model, X_train, Y_train, cv=kfold, scoring=scoring)\n",
        "print(abs(results.mean()))"
      ],
      "execution_count": null,
      "outputs": [
        {
          "output_type": "stream",
          "text": [
            "25.627369512195123\n"
          ],
          "name": "stdout"
        }
      ]
    },
    {
      "cell_type": "markdown",
      "metadata": {
        "id": "WNp7h-xY2vU8"
      },
      "source": [
        "### Support Vector Machines\n",
        "\n",
        "http://scikit-learn.org/stable/modules/generated/sklearn.svm.SVR.html\n",
        "\n",
        "O modelo SVM foi desenvolvido inicialmente para classificação binária e depois estendido para os problemas de predição de valor real e denominado Support Vector Regression (SVR). Podemos criar um modelo SVM para regressão usando a classe SVR."
      ]
    },
    {
      "cell_type": "code",
      "metadata": {
        "id": "4zb2TcvJ2vaw",
        "colab": {
          "base_uri": "https://localhost:8080/"
        },
        "outputId": "3b821f02-147e-489c-b95c-f0443ceb5412"
      },
      "source": [
        "model = SVR()\n",
        "results = cross_val_score(model, X_train, Y_train, cv=kfold, scoring=scoring)\n",
        "print(abs(results.mean()))"
      ],
      "execution_count": null,
      "outputs": [
        {
          "output_type": "stream",
          "text": [
            "67.8278859731828\n"
          ],
          "name": "stdout"
        }
      ]
    },
    {
      "cell_type": "markdown",
      "metadata": {
        "id": "1_WaUApV4dvi"
      },
      "source": [
        "## Comparação de Modelos"
      ]
    },
    {
      "cell_type": "code",
      "metadata": {
        "id": "bRxpInnF4mgc",
        "colab": {
          "base_uri": "https://localhost:8080/",
          "height": 413
        },
        "outputId": "d8ee8579-5cc7-452e-d450-2c3eefff02df"
      },
      "source": [
        "# Lista de modelos a avaliar\n",
        "models = []\n",
        "models.append(('LR', LinearRegression()))\n",
        "models.append(('Ridge', Ridge()))\n",
        "models.append(('Lasso', Lasso()))\n",
        "models.append(('ElasticNet', ElasticNet()))\n",
        "models.append(('KNN', KNeighborsRegressor()))\n",
        "models.append(('CART', DecisionTreeRegressor(random_state=seed)))\n",
        "models.append(('SVM', SVR()))\n",
        "\n",
        "# Treinamento e avaliação de cada modelo\n",
        "results = []\n",
        "names = []  \n",
        "for name, model in models:\n",
        "  kfold = KFold(n_splits=10)\n",
        "  cv_results = cross_val_score(model, X_train, Y_train, cv=kfold, scoring=scoring)\n",
        "  results.append(abs(cv_results))\n",
        "  names.append(name)\n",
        "  # imprime MSE, desvio padrão do MSE e RMSE\n",
        "  msg = \"%s: MSE %0.2f (%0.2f) - RMSE %0.2f\" % (name, abs(cv_results.mean()), cv_results.std(), np.sqrt(abs(cv_results.mean())))\n",
        "  print(msg)\n",
        "\n",
        "# Comparação dos algoritmos em boxplot\n",
        "fig = plt.figure()\n",
        "fig.suptitle('Comparação dos Algoritmos')\n",
        "ax = fig.add_subplot(111)\n",
        "plt.boxplot(results)\n",
        "ax.set_xticklabels(names)\n",
        "plt.show()"
      ],
      "execution_count": null,
      "outputs": [
        {
          "output_type": "stream",
          "text": [
            "LR: MSE 21.38 (9.41) - RMSE 4.62\n",
            "Ridge: MSE 21.50 (9.47) - RMSE 4.64\n",
            "Lasso: MSE 26.42 (11.65) - RMSE 5.14\n",
            "ElasticNet: MSE 27.50 (12.31) - RMSE 5.24\n",
            "KNN: MSE 41.90 (13.90) - RMSE 6.47\n",
            "CART: MSE 25.63 (13.26) - RMSE 5.06\n",
            "SVM: MSE 67.83 (29.05) - RMSE 8.24\n"
          ],
          "name": "stdout"
        },
        {
          "output_type": "display_data",
          "data": {
            "image/png": "[encoded data removed]",
            "text/plain": [
              "<Figure size 432x288 with 1 Axes>"
            ]
          },
          "metadata": {
            "tags": [],
            "needs_background": "light"
          }
        }
      ]
    },
    {
      "cell_type": "markdown",
      "metadata": {
        "id": "e3wqw88Epd49"
      },
      "source": [
        "Vamos agora verificar se a padronização de dados tem algum efeito nos resultados dos modelos."
      ]
    },
    {
      "cell_type": "code",
      "metadata": {
        "id": "FtVjvBJwpBUC",
        "colab": {
          "base_uri": "https://localhost:8080/",
          "height": 413
        },
        "outputId": "5ef2f13d-e824-40ec-8491-e349046e0bd1"
      },
      "source": [
        "# Pipelines para padronização do dataset e aplicação do modelo\n",
        "pipelines = []\n",
        "pipelines.append(('ScaledLR', Pipeline([('Scaler', StandardScaler()),('LR', LinearRegression())])))\n",
        "pipelines.append(('ScaledRidge', Pipeline([('Scaler', StandardScaler()),('Ridge', Ridge())])))\n",
        "pipelines.append(('ScaledLasso', Pipeline([('Scaler', StandardScaler()),('Lasso', Lasso())])))\n",
        "pipelines.append(('ScaledElasticNet', Pipeline([('Scaler', StandardScaler()),('ElasticNet', ElasticNet())])))\n",
        "pipelines.append(('ScaledKNN', Pipeline([('Scaler', StandardScaler()),('KNN', KNeighborsRegressor())])))\n",
        "pipelines.append(('ScaledCART', Pipeline([('Scaler', StandardScaler()),('CART', DecisionTreeRegressor(random_state=seed))])))\n",
        "pipelines.append(('ScaledSVM', Pipeline([('Scaler', StandardScaler()),('SVM', SVR())])))\n",
        "results = []\n",
        "names = []\n",
        "\n",
        "# Aplicação dos pipelines\n",
        "for name, model in pipelines:\n",
        "  kfold = KFold(n_splits=10)\n",
        "  cv_results = cross_val_score(model, X_train, Y_train, cv=kfold, scoring=scoring)\n",
        "  results.append(abs(cv_results))\n",
        "  names.append(name)\n",
        "  msg = \"%s: %f (%f)\" % (name, abs(cv_results.mean()), cv_results.std())\n",
        "  print(msg)\n",
        "\n",
        "# boxplot de comparação dos algoritmos\n",
        "fig = plt.figure() \n",
        "fig.suptitle('Comparação do MSE dos Algoritmos - StandardScaler') \n",
        "ax = fig.add_subplot(111) \n",
        "plt.boxplot(results) \n",
        "ax.set_xticklabels(names) \n",
        "plt.show()"
      ],
      "execution_count": null,
      "outputs": [
        {
          "output_type": "stream",
          "text": [
            "ScaledLR: 21.379856 (9.414264)\n",
            "ScaledRidge: 21.362694 (9.402088)\n",
            "ScaledLasso: 26.607314 (8.978761)\n",
            "ScaledElasticNet: 27.932372 (10.587490)\n",
            "ScaledKNN: 20.107620 (12.376949)\n",
            "ScaledCART: 25.692820 (13.395393)\n",
            "ScaledSVM: 29.633086 (17.009186)\n"
          ],
          "name": "stdout"
        },
        {
          "output_type": "display_data",
          "data": {
            "image/png": "[encoded data removed]",
            "text/plain": [
              "<Figure size 432x288 with 1 Axes>"
            ]
          },
          "metadata": {
            "tags": [],
            "needs_background": "light"
          }
        }
      ]
    },
    {
      "cell_type": "markdown",
      "metadata": {
        "id": "iZjfUMOlQbGy"
      },
      "source": [
        "## Tuning Automático de Hiperparâmetros\n",
        "\n"
      ]
    },
    {
      "cell_type": "code",
      "metadata": {
        "id": "lIOzeMC3K1RO"
      },
      "source": [
        "# padronização dos dados - OBS: Não estou preocupada neste exemplo com Data Leakage!\n",
        "scaler = StandardScaler().fit(X_train)\n",
        "rescaledX = scaler.transform(X_train)"
      ],
      "execution_count": null,
      "outputs": []
    },
    {
      "cell_type": "code",
      "metadata": {
        "id": "CWwyiq5-LkeL",
        "colab": {
          "base_uri": "https://localhost:8080/"
        },
        "outputId": "026a8c01-bd10-4d0c-8a13-1a6207d389c3"
      },
      "source": [
        "# Definição dos possíveis valores de hiperparâmetros para os Regressores Ridge, Lasso e ElasticNet\n",
        "alphas = [1e-15, 1e-10, 1e-8, 1e-4, 1e-3,1e-2, 1, 5, 10, 20, 50, 100]\n",
        "\n",
        "# ----- Ridge\n",
        "param_grid = dict(alpha=alphas)\n",
        "model = Ridge()\n",
        "\n",
        "# busca exaustiva de hiperparâmetros com GridSearchCV\n",
        "grid = GridSearchCV(estimator=model, param_grid=param_grid, scoring=scoring, cv=kfold)\n",
        "grid_result = grid.fit(rescaledX, Y_train)\n",
        "\n",
        "# imprime o melhor resultado\n",
        "print(\"Melhor Ridge: %f usando %s\" % (abs(grid_result.best_score_), grid_result.best_params_)) \n",
        "\n",
        "# ----- Lasso\n",
        "param_grid = dict(alpha=alphas)\n",
        "model = Lasso()\n",
        "\n",
        "# busca exaustiva de hiperparâmetros com GridSearchCV\n",
        "grid = GridSearchCV(estimator=model, param_grid=param_grid, scoring=scoring, cv=kfold)\n",
        "grid_result = grid.fit(rescaledX, Y_train)\n",
        "\n",
        "# imprime o melhor resultado\n",
        "print(\"Melhor Lasso: %f usando %s\" % (abs(grid_result.best_score_), grid_result.best_params_)) \n",
        "\n",
        "# ----- ElasticNet\n",
        "param_grid = dict(alpha=alphas)\n",
        "model = ElasticNet()\n",
        "\n",
        "# busca exaustiva de hiperparâmetros com GridSearchCV\n",
        "grid = GridSearchCV(estimator=model, param_grid=param_grid, scoring=scoring, cv=kfold)\n",
        "grid_result = grid.fit(rescaledX, Y_train)\n",
        "\n",
        "# imprime o melhor resultado\n",
        "print(\"Melhor ElasticNet: %f usando %s\" % (abs(grid_result.best_score_), grid_result.best_params_)) "
      ],
      "execution_count": null,
      "outputs": [
        {
          "output_type": "stream",
          "text": [
            "Melhor Ridge: 21.303835 usando {'alpha': 10}\n",
            "Melhor Lasso: 21.351091 usando {'alpha': 0.01}\n",
            "Melhor ElasticNet: 21.337587 usando {'alpha': 0.01}\n"
          ],
          "name": "stdout"
        }
      ]
    },
    {
      "cell_type": "code",
      "metadata": {
        "id": "OXT2-EfrQ6yz",
        "colab": {
          "base_uri": "https://localhost:8080/"
        },
        "outputId": "0a5d55d9-821d-4b0a-990e-433ee53c1d2a"
      },
      "source": [
        "# ----- KNN\n",
        "k = [1,3,5,7,9,11,13,15,17,19,21] # número de vizinhos\n",
        "distancias = [\"euclidean\", \"manhattan\", \"minkowski\"] # distância\n",
        "param_grid = dict(n_neighbors=k, metric=distancias)\n",
        "model = KNeighborsRegressor()\n",
        "\n",
        "# busca exaustiva de hiperparâmetros com GridSearchCV\n",
        "grid = GridSearchCV(estimator=model, param_grid=param_grid, scoring=scoring, cv=kfold)\n",
        "grid_result = grid.fit(rescaledX, Y_train)\n",
        "\n",
        "# imprime o melhor resultado\n",
        "print(\"Melhor KNN: %f usando %s\" % (abs(grid_result.best_score_), grid_result.best_params_)) \n",
        "\n",
        "# ----- CART\n",
        "criterios = ['mse', 'mae'] # função para medir a qualidade de uma divisão\n",
        "max_depth = [3,5,10,20,30,40,50] # profundidade máxima\n",
        "min_samples_leaf = [3,5,10,20,30,40,50] # número mínimo de instâncias em cada folha\n",
        "param_grid = dict(criterion=criterios, min_samples_leaf=min_samples_leaf, max_depth=max_depth)\n",
        "model = DecisionTreeRegressor(random_state=seed)\n",
        "\n",
        "# busca exaustiva de hiperparâmetros com GridSearchCV\n",
        "grid = GridSearchCV(estimator=model, param_grid=param_grid, scoring=scoring, cv=kfold)\n",
        "grid_result = grid.fit(rescaledX, Y_train)\n",
        "\n",
        "# imprime o melhor resultado\n",
        "print(\"Melhor CART: %f usando %s\" % (abs(grid_result.best_score_), grid_result.best_params_)) \n",
        "\n",
        "# ----- SVM\n",
        "c_values = [0.1, 0.5, 1.0, 1.5, 2.0] # rigidez da margem\n",
        "kernel_values = ['linear', 'poly', 'rbf', 'sigmoid'] # função kernel\n",
        "param_grid = dict(C=c_values, kernel=kernel_values)\n",
        "model = SVR()\n",
        "\n",
        "# busca exaustiva de hiperparâmetros com GridSearchCV\n",
        "grid = GridSearchCV(estimator=model, param_grid=param_grid, scoring=scoring, cv=kfold)\n",
        "grid_result = grid.fit(rescaledX, Y_train)\n",
        "\n",
        "# imprime o melhor resultado\n",
        "print(\"Melhor SVM: %f usando %s\" % (abs(grid_result.best_score_), grid_result.best_params_)) "
      ],
      "execution_count": null,
      "outputs": [
        {
          "output_type": "stream",
          "text": [
            "Melhor KNN: 15.041320 usando {'metric': 'manhattan', 'n_neighbors': 3}\n",
            "Melhor CART: 17.650667 usando {'criterion': 'mse', 'max_depth': 5, 'min_samples_leaf': 20}\n",
            "Melhor SVM: 22.531401 usando {'C': 1.0, 'kernel': 'linear'}\n"
          ],
          "name": "stdout"
        }
      ]
    },
    {
      "cell_type": "code",
      "metadata": {
        "id": "AuXAyrKgfK2K",
        "colab": {
          "base_uri": "https://localhost:8080/"
        },
        "outputId": "949950a4-8911-4c3b-b61d-d031c03242b3"
      },
      "source": [
        "# Outra forma de executar - guardar o melhor modelo dado por grid_result.best_estimator_\n",
        "\n",
        "# ----- KNN\n",
        "k = [1,3,5,7,9,11,13,15,17,19,21]\n",
        "distancias = [\"euclidean\", \"manhattan\", \"minkowski\"]\n",
        "param_grid = dict(n_neighbors=k, metric=distancias)\n",
        "model = KNeighborsRegressor()\n",
        "\n",
        "# busca exaustiva de hiperparâmetros com GridSearchCV\n",
        "grid = GridSearchCV(estimator=model, param_grid=param_grid, scoring=scoring, cv=kfold)\n",
        "grid_result = grid.fit(rescaledX, Y_train)\n",
        "\n",
        "# imprime o melhor resultado\n",
        "print(\"Melhor KNN: %f usando %s\" % (abs(grid_result.best_score_), grid_result.best_params_)) \n",
        "\n",
        "melhor_modelo = grid_result.best_estimator_\n"
      ],
      "execution_count": null,
      "outputs": [
        {
          "output_type": "stream",
          "text": [
            "Melhor KNN: 15.041320 usando {'metric': 'manhattan', 'n_neighbors': 3}\n"
          ],
          "name": "stdout"
        }
      ]
    },
    {
      "cell_type": "markdown",
      "metadata": {
        "id": "deaAj2Z8NzZe"
      },
      "source": [
        "## Modelo Final"
      ]
    },
    {
      "cell_type": "code",
      "metadata": {
        "id": "uUKBJ8ocN0xi",
        "colab": {
          "base_uri": "https://localhost:8080/"
        },
        "outputId": "185edb47-7eac-44d5-8074-f082e52ad21f"
      },
      "source": [
        "# padronização os dados de treino\n",
        "scaler = StandardScaler().fit(X_train)\n",
        "rescaledX = scaler.transform(X_train)\n",
        "\n",
        "# criando e treinando um modelo com a melhor configuração até o momento\n",
        "model = melhor_modelo  # equivalente à linha abaixo\n",
        "# model = KNeighborsRegressor(metric='manhattan', n_neighbors=3) # equivalente à linha acima\n",
        "\n",
        "model.fit(rescaledX, Y_train)\n",
        "\n",
        "# padronização dos dados de teste\n",
        "rescaledTestX = scaler.transform(X_test)\n",
        "\n",
        "# predições\n",
        "predictions = model.predict(rescaledTestX)\n",
        "\n",
        "# estimando o MSE e R2 no conjunto de teste\n",
        "print(mean_squared_error(Y_test, predictions))\n",
        "print(r2_score(Y_test, predictions))"
      ],
      "execution_count": null,
      "outputs": [
        {
          "output_type": "stream",
          "text": [
            "24.16641612200437\n",
            "0.7009338621239385\n"
          ],
          "name": "stdout"
        }
      ]
    },
    {
      "cell_type": "code",
      "metadata": {
        "id": "nlzBEw6Xb5sR",
        "colab": {
          "base_uri": "https://localhost:8080/"
        },
        "outputId": "94a056ac-e9b0-4718-a7ca-97efdd5ace31"
      },
      "source": [
        "Y_test"
      ],
      "execution_count": null,
      "outputs": [
        {
          "output_type": "execute_result",
          "data": {
            "text/plain": [
              "array([21.7, 18.5, 22.2, 20.4,  8.8,  8.3, 21.4, 23.6, 23.5, 19. , 10.2,\n",
              "       31.6, 18.4, 19.4, 44. , 23.2, 22. , 33.1, 13.2, 21.7, 16.7, 23.9,\n",
              "       42.3, 18.5, 14.6,  7.5, 33.4, 22. , 28.1, 24.8, 19.9, 24.8, 28.7,\n",
              "       14.1, 43.5, 20.4, 18.3, 13.4, 21. , 22. , 22.6, 13.9, 13.3, 26.5,\n",
              "       20. ,  9.5, 21.6, 22.6, 15.6, 23.1, 27.1, 25.2, 15. , 21.9,  9.6,\n",
              "       22.7, 18.3, 21.4, 20.5, 21.1, 24.5, 31. , 18.7, 18.7, 22.7, 50. ,\n",
              "       16.7, 23. , 20.4, 22.8, 24.8, 10.5, 18.2, 31.5, 23.8, 19.6, 12.7,\n",
              "       15.2, 31.2, 14.5, 17.8, 25. , 23. , 50. , 23.7, 25.1, 24.7, 16.8,\n",
              "       34.7, 23.3, 50. , 46.7, 43.1, 24.4, 24.1,  6.3, 26.4, 16.3, 17.2,\n",
              "       28. , 15.2, 16.6])"
            ]
          },
          "metadata": {
            "tags": []
          },
          "execution_count": 21
        }
      ]
    },
    {
      "cell_type": "code",
      "metadata": {
        "id": "RiIhoDCUb762",
        "colab": {
          "base_uri": "https://localhost:8080/"
        },
        "outputId": "d2e1cf93-788d-4721-ce80-015da7c421df"
      },
      "source": [
        "predictions"
      ],
      "execution_count": null,
      "outputs": [
        {
          "output_type": "execute_result",
          "data": {
            "text/plain": [
              "array([39.26666667, 19.86666667, 23.93333333, 18.76666667,  8.06666667,\n",
              "       10.06666667, 13.7       , 25.7       , 22.        , 13.2       ,\n",
              "       10.23333333, 33.13333333, 14.26666667, 19.93333333, 43.56666667,\n",
              "       18.9       , 23.06666667, 28.        , 14.06666667, 24.26666667,\n",
              "       14.4       , 18.3       , 43.93333333, 20.8       , 15.06666667,\n",
              "       11.7       , 30.9       , 18.3       , 24.1       , 23.06666667,\n",
              "       19.6       , 27.7       , 31.33333333, 13.96666667, 40.1       ,\n",
              "       19.76666667, 18.5       , 13.96666667, 19.7       , 21.86666667,\n",
              "       26.53333333, 11.46666667, 16.        , 23.        , 17.        ,\n",
              "       12.06666667, 22.4       , 20.73333333, 15.13333333, 20.13333333,\n",
              "       24.26666667, 24.8       ,  9.8       , 39.26666667, 12.8       ,\n",
              "       39.26666667, 18.9       , 17.46666667, 21.06666667, 22.3       ,\n",
              "       19.93333333, 35.43333333, 19.26666667, 19.7       , 19.6       ,\n",
              "       43.36666667, 14.03333333, 18.63333333, 23.96666667, 22.4       ,\n",
              "       23.26666667, 10.5       , 20.03333333, 40.56666667, 21.56666667,\n",
              "       20.9       , 13.73333333, 16.56666667, 30.46666667, 18.5       ,\n",
              "       14.2       , 23.83333333, 21.83333333, 39.26666667, 23.93333333,\n",
              "       27.73333333, 23.16666667, 27.33333333, 30.33333333, 22.96666667,\n",
              "       30.9       , 37.16666667, 35.43333333, 23.96666667, 20.83333333,\n",
              "       12.13333333, 22.13333333, 16.63333333, 12.53333333, 24.33333333,\n",
              "       14.66666667, 17.56666667])"
            ]
          },
          "metadata": {
            "tags": []
          },
          "execution_count": 22
        }
      ]
    }
  ]
}